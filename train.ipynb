{
 "cells": [
  {
   "cell_type": "markdown",
   "metadata": {},
   "source": [
    "#### Put your well-documented code to train your final model as functions in a file \"train.py\" and then import the contents of this file into your notebook, which will make those functions available (this is the file you would print for the model submission above)"
   ]
  }
 ],
 "metadata": {
  "language_info": {
   "name": "python"
  }
 },
 "nbformat": 4,
 "nbformat_minor": 2
}
