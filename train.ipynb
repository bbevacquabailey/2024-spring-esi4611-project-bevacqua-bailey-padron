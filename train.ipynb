{
 "cells": [
  {
   "cell_type": "code",
   "execution_count": null,
   "metadata": {},
   "outputs": [],
   "source": [
    "#Put your well-documented code to train your final model as functions in a file \"train.py\" \n",
    "#and then import the contents of this file into your notebook, which will make those functions available \n",
    "#(this is the file you would print for the model submission above)"
   ]
  }
 ],
 "metadata": {
  "language_info": {
   "name": "python"
  }
 },
 "nbformat": 4,
 "nbformat_minor": 2
}
