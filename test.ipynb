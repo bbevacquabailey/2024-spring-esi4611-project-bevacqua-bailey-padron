{
 "cells": [
  {
   "cell_type": "markdown",
   "metadata": {},
   "source": [
    "#### Add a \"test.py\" file that would take as an input your test data, test labels, and learned model, and output the accuracy and predicted labels"
   ]
  }
 ],
 "metadata": {
  "language_info": {
   "name": "python"
  }
 },
 "nbformat": 4,
 "nbformat_minor": 2
}
