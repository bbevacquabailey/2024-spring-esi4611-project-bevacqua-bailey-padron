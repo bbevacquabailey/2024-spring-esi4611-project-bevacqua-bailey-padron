{
 "cells": [
  {
   "cell_type": "markdown",
   "metadata": {},
   "source": [
    "#### Must include a \"run.ipynb\" file, which will not include any of the plotting / analysis code, or the source of the model-training code, but rather is meant for the instructor/grader to set variables for file paths to train/test data, from which your final model can be reproduced and run on the test data"
   ]
  }
 ],
 "metadata": {
  "language_info": {
   "name": "python"
  }
 },
 "nbformat": 4,
 "nbformat_minor": 2
}
